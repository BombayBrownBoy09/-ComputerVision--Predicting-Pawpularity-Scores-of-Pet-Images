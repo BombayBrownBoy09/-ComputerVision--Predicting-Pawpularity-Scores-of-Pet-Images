{
 "cells": [
  {
   "cell_type": "code",
   "execution_count": 1,
   "id": "a4ccb5ae",
   "metadata": {
    "execution": {
     "iopub.execute_input": "2021-12-25T22:30:37.716161Z",
     "iopub.status.busy": "2021-12-25T22:30:37.715347Z",
     "iopub.status.idle": "2021-12-25T22:30:43.480933Z",
     "shell.execute_reply": "2021-12-25T22:30:43.480284Z",
     "shell.execute_reply.started": "2021-12-25T21:40:55.774770Z"
    },
    "papermill": {
     "duration": 5.794669,
     "end_time": "2021-12-25T22:30:43.481100",
     "exception": false,
     "start_time": "2021-12-25T22:30:37.686431",
     "status": "completed"
    },
    "tags": []
   },
   "outputs": [],
   "source": [
    "import os\n",
    "import numpy as np\n",
    "import pandas as pd\n",
    "\n",
    "#images\n",
    "import cv2\n",
    "\n",
    "#modeling\n",
    "from sklearn.model_selection import train_test_split\n",
    "import tensorflow as tf\n",
    "from tensorflow import keras\n",
    "from tensorflow.keras import layers\n",
    "from tensorflow.keras.regularizers import l2\n",
    "from tensorflow.keras.preprocessing.image import ImageDataGenerator\n",
    "from tensorflow.python.client import device_lib\n",
    "\n",
    "#visualizations\n",
    "import seaborn as sns\n",
    "import matplotlib.pyplot as plt"
   ]
  },
  {
   "cell_type": "code",
   "execution_count": 2,
   "id": "50ed898e",
   "metadata": {
    "execution": {
     "iopub.execute_input": "2021-12-25T22:30:43.649843Z",
     "iopub.status.busy": "2021-12-25T22:30:43.517142Z",
     "iopub.status.idle": "2021-12-25T22:30:43.658166Z",
     "shell.execute_reply": "2021-12-25T22:30:43.658765Z",
     "shell.execute_reply.started": "2021-12-25T21:41:18.401943Z"
    },
    "papermill": {
     "duration": 0.161053,
     "end_time": "2021-12-25T22:30:43.658952",
     "exception": false,
     "start_time": "2021-12-25T22:30:43.497899",
     "status": "completed"
    },
    "tags": []
   },
   "outputs": [
    {
     "name": "stderr",
     "output_type": "stream",
     "text": [
      "2021-12-25 22:30:43.564282: I tensorflow/stream_executor/cuda/cuda_gpu_executor.cc:937] successful NUMA node read from SysFS had negative value (-1), but there must be at least one NUMA node, so returning NUMA node zero\n",
      "2021-12-25 22:30:43.646315: I tensorflow/stream_executor/cuda/cuda_gpu_executor.cc:937] successful NUMA node read from SysFS had negative value (-1), but there must be at least one NUMA node, so returning NUMA node zero\n",
      "2021-12-25 22:30:43.647052: I tensorflow/stream_executor/cuda/cuda_gpu_executor.cc:937] successful NUMA node read from SysFS had negative value (-1), but there must be at least one NUMA node, so returning NUMA node zero\n"
     ]
    },
    {
     "data": {
      "text/plain": [
       "[PhysicalDevice(name='/physical_device:CPU:0', device_type='CPU'),\n",
       " PhysicalDevice(name='/physical_device:GPU:0', device_type='GPU')]"
      ]
     },
     "execution_count": 2,
     "metadata": {},
     "output_type": "execute_result"
    }
   ],
   "source": [
    "tf.config.get_visible_devices()"
   ]
  },
  {
   "cell_type": "code",
   "execution_count": 3,
   "id": "2b73f9ed",
   "metadata": {
    "execution": {
     "iopub.execute_input": "2021-12-25T22:30:45.456906Z",
     "iopub.status.busy": "2021-12-25T22:30:45.456016Z",
     "iopub.status.idle": "2021-12-25T22:30:45.464610Z",
     "shell.execute_reply": "2021-12-25T22:30:45.464109Z",
     "shell.execute_reply.started": "2021-12-25T21:41:22.360374Z"
    },
    "papermill": {
     "duration": 1.788669,
     "end_time": "2021-12-25T22:30:45.464736",
     "exception": false,
     "start_time": "2021-12-25T22:30:43.676067",
     "status": "completed"
    },
    "tags": []
   },
   "outputs": [
    {
     "name": "stderr",
     "output_type": "stream",
     "text": [
      "2021-12-25 22:30:43.697505: I tensorflow/core/platform/cpu_feature_guard.cc:142] This TensorFlow binary is optimized with oneAPI Deep Neural Network Library (oneDNN) to use the following CPU instructions in performance-critical operations:  AVX2 AVX512F FMA\n",
      "To enable them in other operations, rebuild TensorFlow with the appropriate compiler flags.\n",
      "2021-12-25 22:30:43.698417: I tensorflow/stream_executor/cuda/cuda_gpu_executor.cc:937] successful NUMA node read from SysFS had negative value (-1), but there must be at least one NUMA node, so returning NUMA node zero\n",
      "2021-12-25 22:30:43.699139: I tensorflow/stream_executor/cuda/cuda_gpu_executor.cc:937] successful NUMA node read from SysFS had negative value (-1), but there must be at least one NUMA node, so returning NUMA node zero\n",
      "2021-12-25 22:30:43.699806: I tensorflow/stream_executor/cuda/cuda_gpu_executor.cc:937] successful NUMA node read from SysFS had negative value (-1), but there must be at least one NUMA node, so returning NUMA node zero\n",
      "2021-12-25 22:30:45.445970: I tensorflow/stream_executor/cuda/cuda_gpu_executor.cc:937] successful NUMA node read from SysFS had negative value (-1), but there must be at least one NUMA node, so returning NUMA node zero\n",
      "2021-12-25 22:30:45.446973: I tensorflow/stream_executor/cuda/cuda_gpu_executor.cc:937] successful NUMA node read from SysFS had negative value (-1), but there must be at least one NUMA node, so returning NUMA node zero\n",
      "2021-12-25 22:30:45.447717: I tensorflow/stream_executor/cuda/cuda_gpu_executor.cc:937] successful NUMA node read from SysFS had negative value (-1), but there must be at least one NUMA node, so returning NUMA node zero\n",
      "2021-12-25 22:30:45.448297: I tensorflow/core/common_runtime/gpu/gpu_device.cc:1510] Created device /device:GPU:0 with 15403 MB memory:  -> device: 0, name: Tesla P100-PCIE-16GB, pci bus id: 0000:00:04.0, compute capability: 6.0\n"
     ]
    }
   ],
   "source": [
    "if 'GPU' in str(device_lib.list_local_devices()):\n",
    "    config = tf.compat.v1.ConfigProto(device_count = {'GPU': 0})\n",
    "    sess = tf.compat.v1.Session(config=config) "
   ]
  },
  {
   "cell_type": "code",
   "execution_count": 4,
   "id": "0be830fc",
   "metadata": {
    "execution": {
     "iopub.execute_input": "2021-12-25T22:30:45.503895Z",
     "iopub.status.busy": "2021-12-25T22:30:45.503269Z",
     "iopub.status.idle": "2021-12-25T22:30:45.540893Z",
     "shell.execute_reply": "2021-12-25T22:30:45.540460Z",
     "shell.execute_reply.started": "2021-12-25T21:41:27.883581Z"
    },
    "papermill": {
     "duration": 0.058858,
     "end_time": "2021-12-25T22:30:45.541009",
     "exception": false,
     "start_time": "2021-12-25T22:30:45.482151",
     "status": "completed"
    },
    "tags": []
   },
   "outputs": [],
   "source": [
    "train = pd.read_csv('../input/petfinder-pawpularity-score/train.csv')\n",
    "test = pd.read_csv('../input/petfinder-pawpularity-score/test.csv')"
   ]
  },
  {
   "cell_type": "code",
   "execution_count": 5,
   "id": "14d05664",
   "metadata": {
    "execution": {
     "iopub.execute_input": "2021-12-25T22:30:45.582824Z",
     "iopub.status.busy": "2021-12-25T22:30:45.581949Z",
     "iopub.status.idle": "2021-12-25T22:30:45.618712Z",
     "shell.execute_reply": "2021-12-25T22:30:45.618226Z",
     "shell.execute_reply.started": "2021-12-25T21:41:44.167514Z"
    },
    "papermill": {
     "duration": 0.060334,
     "end_time": "2021-12-25T22:30:45.618831",
     "exception": false,
     "start_time": "2021-12-25T22:30:45.558497",
     "status": "completed"
    },
    "tags": []
   },
   "outputs": [],
   "source": [
    "def train_id_to_path(x):\n",
    "    return '../input/petfinder-pawpularity-score/train/' + x + \".jpg\"\n",
    "def test_id_to_path(x):\n",
    "    return '../input/petfinder-pawpularity-score/test/' + x + \".jpg\"\n",
    "\n",
    "#Read in the data and drop unnecessary columns\n",
    "train = pd.read_csv('../input/petfinder-pawpularity-score/train.csv')\n",
    "train = train.drop(['Subject Focus', 'Eyes', 'Face', 'Near', 'Action', 'Accessory', 'Group', 'Collage', 'Human', 'Occlusion', 'Info', 'Blur'],axis=1)\n",
    "\n",
    "test = pd.read_csv('../input/petfinder-pawpularity-score/test.csv')\n",
    "test = test.drop(['Subject Focus', 'Eyes', 'Face', 'Near', 'Action', 'Accessory', 'Group', 'Collage', 'Human', 'Occlusion', 'Info', 'Blur'],axis=1)\n",
    "\n",
    "#Add the .jpg extensions to the image file name ids\n",
    "train[\"img_path\"] = train[\"Id\"].apply(train_id_to_path)\n",
    "test[\"img_path\"] = test[\"Id\"].apply(test_id_to_path)"
   ]
  },
  {
   "cell_type": "code",
   "execution_count": 6,
   "id": "505fccad",
   "metadata": {
    "execution": {
     "iopub.execute_input": "2021-12-25T22:30:45.657335Z",
     "iopub.status.busy": "2021-12-25T22:30:45.656575Z",
     "iopub.status.idle": "2021-12-25T22:30:45.705309Z",
     "shell.execute_reply": "2021-12-25T22:30:45.704867Z",
     "shell.execute_reply.started": "2021-12-25T21:42:03.056418Z"
    },
    "papermill": {
     "duration": 0.068803,
     "end_time": "2021-12-25T22:30:45.705439",
     "exception": false,
     "start_time": "2021-12-25T22:30:45.636636",
     "status": "completed"
    },
    "tags": []
   },
   "outputs": [],
   "source": [
    "#binning columns to test models\n",
    "train['two_bin_pawp'] = pd.qcut(train['Pawpularity'], q=2, labels=False)\n",
    "train = train.astype({\"two_bin_pawp\": str})\n",
    "\n",
    "train['four_bin_pawp'] = pd.qcut(train['Pawpularity'], q=4, labels=False)\n",
    "train = train.astype({\"four_bin_pawp\": str})\n",
    "\n",
    "train['ten_bin_pawp'] = pd.qcut(train['Pawpularity'], q=10, labels=False)\n",
    "train = train.astype({\"ten_bin_pawp\": str})"
   ]
  },
  {
   "cell_type": "code",
   "execution_count": 7,
   "id": "0bd0cd26",
   "metadata": {
    "execution": {
     "iopub.execute_input": "2021-12-25T22:30:45.746189Z",
     "iopub.status.busy": "2021-12-25T22:30:45.745339Z",
     "iopub.status.idle": "2021-12-25T22:30:45.778931Z",
     "shell.execute_reply": "2021-12-25T22:30:45.778515Z",
     "shell.execute_reply.started": "2021-12-25T21:42:14.382207Z"
    },
    "papermill": {
     "duration": 0.056134,
     "end_time": "2021-12-25T22:30:45.779043",
     "exception": false,
     "start_time": "2021-12-25T22:30:45.722909",
     "status": "completed"
    },
    "tags": []
   },
   "outputs": [
    {
     "data": {
      "text/html": [
       "<div>\n",
       "<style scoped>\n",
       "    .dataframe tbody tr th:only-of-type {\n",
       "        vertical-align: middle;\n",
       "    }\n",
       "\n",
       "    .dataframe tbody tr th {\n",
       "        vertical-align: top;\n",
       "    }\n",
       "\n",
       "    .dataframe thead tr th {\n",
       "        text-align: left;\n",
       "    }\n",
       "\n",
       "    .dataframe thead tr:last-of-type th {\n",
       "        text-align: right;\n",
       "    }\n",
       "</style>\n",
       "<table border=\"1\" class=\"dataframe\">\n",
       "  <thead>\n",
       "    <tr>\n",
       "      <th></th>\n",
       "      <th colspan=\"8\" halign=\"left\">Pawpularity</th>\n",
       "    </tr>\n",
       "    <tr>\n",
       "      <th></th>\n",
       "      <th>count</th>\n",
       "      <th>mean</th>\n",
       "      <th>std</th>\n",
       "      <th>min</th>\n",
       "      <th>25%</th>\n",
       "      <th>50%</th>\n",
       "      <th>75%</th>\n",
       "      <th>max</th>\n",
       "    </tr>\n",
       "    <tr>\n",
       "      <th>two_bin_pawp</th>\n",
       "      <th></th>\n",
       "      <th></th>\n",
       "      <th></th>\n",
       "      <th></th>\n",
       "      <th></th>\n",
       "      <th></th>\n",
       "      <th></th>\n",
       "      <th></th>\n",
       "    </tr>\n",
       "  </thead>\n",
       "  <tbody>\n",
       "    <tr>\n",
       "      <th>0</th>\n",
       "      <td>5038.0</td>\n",
       "      <td>23.351727</td>\n",
       "      <td>7.628728</td>\n",
       "      <td>1.0</td>\n",
       "      <td>20.0</td>\n",
       "      <td>25.0</td>\n",
       "      <td>29.0</td>\n",
       "      <td>33.0</td>\n",
       "    </tr>\n",
       "    <tr>\n",
       "      <th>1</th>\n",
       "      <td>4874.0</td>\n",
       "      <td>53.220558</td>\n",
       "      <td>18.673900</td>\n",
       "      <td>34.0</td>\n",
       "      <td>39.0</td>\n",
       "      <td>47.0</td>\n",
       "      <td>62.0</td>\n",
       "      <td>100.0</td>\n",
       "    </tr>\n",
       "  </tbody>\n",
       "</table>\n",
       "</div>"
      ],
      "text/plain": [
       "             Pawpularity                                                     \n",
       "                   count       mean        std   min   25%   50%   75%    max\n",
       "two_bin_pawp                                                                 \n",
       "0                 5038.0  23.351727   7.628728   1.0  20.0  25.0  29.0   33.0\n",
       "1                 4874.0  53.220558  18.673900  34.0  39.0  47.0  62.0  100.0"
      ]
     },
     "execution_count": 7,
     "metadata": {},
     "output_type": "execute_result"
    }
   ],
   "source": [
    "train2bin_stats = train.groupby('two_bin_pawp')\n",
    "train2bin_stats.describe()"
   ]
  },
  {
   "cell_type": "code",
   "execution_count": 8,
   "id": "5931c2a3",
   "metadata": {
    "execution": {
     "iopub.execute_input": "2021-12-25T22:30:45.825282Z",
     "iopub.status.busy": "2021-12-25T22:30:45.824625Z",
     "iopub.status.idle": "2021-12-25T22:30:45.827312Z",
     "shell.execute_reply": "2021-12-25T22:30:45.827769Z",
     "shell.execute_reply.started": "2021-12-25T21:42:37.131127Z"
    },
    "papermill": {
     "duration": 0.030032,
     "end_time": "2021-12-25T22:30:45.827892",
     "exception": false,
     "start_time": "2021-12-25T22:30:45.797860",
     "status": "completed"
    },
    "tags": []
   },
   "outputs": [
    {
     "data": {
      "text/html": [
       "<div>\n",
       "<style scoped>\n",
       "    .dataframe tbody tr th:only-of-type {\n",
       "        vertical-align: middle;\n",
       "    }\n",
       "\n",
       "    .dataframe tbody tr th {\n",
       "        vertical-align: top;\n",
       "    }\n",
       "\n",
       "    .dataframe thead th {\n",
       "        text-align: right;\n",
       "    }\n",
       "</style>\n",
       "<table border=\"1\" class=\"dataframe\">\n",
       "  <thead>\n",
       "    <tr style=\"text-align: right;\">\n",
       "      <th></th>\n",
       "      <th>Id</th>\n",
       "      <th>Pawpularity</th>\n",
       "      <th>img_path</th>\n",
       "      <th>two_bin_pawp</th>\n",
       "      <th>four_bin_pawp</th>\n",
       "      <th>ten_bin_pawp</th>\n",
       "    </tr>\n",
       "  </thead>\n",
       "  <tbody>\n",
       "    <tr>\n",
       "      <th>0</th>\n",
       "      <td>0007de18844b0dbbb5e1f607da0606e0</td>\n",
       "      <td>63</td>\n",
       "      <td>../input/petfinder-pawpularity-score/train/000...</td>\n",
       "      <td>1</td>\n",
       "      <td>3</td>\n",
       "      <td>8</td>\n",
       "    </tr>\n",
       "    <tr>\n",
       "      <th>1</th>\n",
       "      <td>0009c66b9439883ba2750fb825e1d7db</td>\n",
       "      <td>42</td>\n",
       "      <td>../input/petfinder-pawpularity-score/train/000...</td>\n",
       "      <td>1</td>\n",
       "      <td>2</td>\n",
       "      <td>6</td>\n",
       "    </tr>\n",
       "    <tr>\n",
       "      <th>2</th>\n",
       "      <td>0013fd999caf9a3efe1352ca1b0d937e</td>\n",
       "      <td>28</td>\n",
       "      <td>../input/petfinder-pawpularity-score/train/001...</td>\n",
       "      <td>0</td>\n",
       "      <td>1</td>\n",
       "      <td>3</td>\n",
       "    </tr>\n",
       "    <tr>\n",
       "      <th>3</th>\n",
       "      <td>0018df346ac9c1d8413cfcc888ca8246</td>\n",
       "      <td>15</td>\n",
       "      <td>../input/petfinder-pawpularity-score/train/001...</td>\n",
       "      <td>0</td>\n",
       "      <td>0</td>\n",
       "      <td>0</td>\n",
       "    </tr>\n",
       "    <tr>\n",
       "      <th>4</th>\n",
       "      <td>001dc955e10590d3ca4673f034feeef2</td>\n",
       "      <td>72</td>\n",
       "      <td>../input/petfinder-pawpularity-score/train/001...</td>\n",
       "      <td>1</td>\n",
       "      <td>3</td>\n",
       "      <td>9</td>\n",
       "    </tr>\n",
       "  </tbody>\n",
       "</table>\n",
       "</div>"
      ],
      "text/plain": [
       "                                 Id  Pawpularity  \\\n",
       "0  0007de18844b0dbbb5e1f607da0606e0           63   \n",
       "1  0009c66b9439883ba2750fb825e1d7db           42   \n",
       "2  0013fd999caf9a3efe1352ca1b0d937e           28   \n",
       "3  0018df346ac9c1d8413cfcc888ca8246           15   \n",
       "4  001dc955e10590d3ca4673f034feeef2           72   \n",
       "\n",
       "                                            img_path two_bin_pawp  \\\n",
       "0  ../input/petfinder-pawpularity-score/train/000...            1   \n",
       "1  ../input/petfinder-pawpularity-score/train/000...            1   \n",
       "2  ../input/petfinder-pawpularity-score/train/001...            0   \n",
       "3  ../input/petfinder-pawpularity-score/train/001...            0   \n",
       "4  ../input/petfinder-pawpularity-score/train/001...            1   \n",
       "\n",
       "  four_bin_pawp ten_bin_pawp  \n",
       "0             3            8  \n",
       "1             2            6  \n",
       "2             1            3  \n",
       "3             0            0  \n",
       "4             3            9  "
      ]
     },
     "execution_count": 8,
     "metadata": {},
     "output_type": "execute_result"
    }
   ],
   "source": [
    "train.head()"
   ]
  },
  {
   "cell_type": "code",
   "execution_count": 9,
   "id": "f42d332e",
   "metadata": {
    "execution": {
     "iopub.execute_input": "2021-12-25T22:30:45.872038Z",
     "iopub.status.busy": "2021-12-25T22:30:45.871228Z",
     "iopub.status.idle": "2021-12-25T22:30:45.874789Z",
     "shell.execute_reply": "2021-12-25T22:30:45.874358Z",
     "shell.execute_reply.started": "2021-12-25T21:44:06.120383Z"
    },
    "papermill": {
     "duration": 0.028019,
     "end_time": "2021-12-25T22:30:45.874896",
     "exception": false,
     "start_time": "2021-12-25T22:30:45.846877",
     "status": "completed"
    },
    "tags": []
   },
   "outputs": [
    {
     "data": {
      "text/html": [
       "<div>\n",
       "<style scoped>\n",
       "    .dataframe tbody tr th:only-of-type {\n",
       "        vertical-align: middle;\n",
       "    }\n",
       "\n",
       "    .dataframe tbody tr th {\n",
       "        vertical-align: top;\n",
       "    }\n",
       "\n",
       "    .dataframe thead th {\n",
       "        text-align: right;\n",
       "    }\n",
       "</style>\n",
       "<table border=\"1\" class=\"dataframe\">\n",
       "  <thead>\n",
       "    <tr style=\"text-align: right;\">\n",
       "      <th></th>\n",
       "      <th>Id</th>\n",
       "      <th>img_path</th>\n",
       "    </tr>\n",
       "  </thead>\n",
       "  <tbody>\n",
       "    <tr>\n",
       "      <th>0</th>\n",
       "      <td>4128bae22183829d2b5fea10effdb0c3</td>\n",
       "      <td>../input/petfinder-pawpularity-score/test/4128...</td>\n",
       "    </tr>\n",
       "    <tr>\n",
       "      <th>1</th>\n",
       "      <td>43a2262d7738e3d420d453815151079e</td>\n",
       "      <td>../input/petfinder-pawpularity-score/test/43a2...</td>\n",
       "    </tr>\n",
       "    <tr>\n",
       "      <th>2</th>\n",
       "      <td>4e429cead1848a298432a0acad014c9d</td>\n",
       "      <td>../input/petfinder-pawpularity-score/test/4e42...</td>\n",
       "    </tr>\n",
       "    <tr>\n",
       "      <th>3</th>\n",
       "      <td>80bc3ccafcc51b66303c2c263aa38486</td>\n",
       "      <td>../input/petfinder-pawpularity-score/test/80bc...</td>\n",
       "    </tr>\n",
       "    <tr>\n",
       "      <th>4</th>\n",
       "      <td>8f49844c382931444e68dffbe20228f4</td>\n",
       "      <td>../input/petfinder-pawpularity-score/test/8f49...</td>\n",
       "    </tr>\n",
       "  </tbody>\n",
       "</table>\n",
       "</div>"
      ],
      "text/plain": [
       "                                 Id  \\\n",
       "0  4128bae22183829d2b5fea10effdb0c3   \n",
       "1  43a2262d7738e3d420d453815151079e   \n",
       "2  4e429cead1848a298432a0acad014c9d   \n",
       "3  80bc3ccafcc51b66303c2c263aa38486   \n",
       "4  8f49844c382931444e68dffbe20228f4   \n",
       "\n",
       "                                            img_path  \n",
       "0  ../input/petfinder-pawpularity-score/test/4128...  \n",
       "1  ../input/petfinder-pawpularity-score/test/43a2...  \n",
       "2  ../input/petfinder-pawpularity-score/test/4e42...  \n",
       "3  ../input/petfinder-pawpularity-score/test/80bc...  \n",
       "4  ../input/petfinder-pawpularity-score/test/8f49...  "
      ]
     },
     "execution_count": 9,
     "metadata": {},
     "output_type": "execute_result"
    }
   ],
   "source": [
    "test.head()"
   ]
  },
  {
   "cell_type": "code",
   "execution_count": 10,
   "id": "85d292b3",
   "metadata": {
    "execution": {
     "iopub.execute_input": "2021-12-25T22:30:45.917523Z",
     "iopub.status.busy": "2021-12-25T22:30:45.916818Z",
     "iopub.status.idle": "2021-12-25T22:30:45.919171Z",
     "shell.execute_reply": "2021-12-25T22:30:45.918759Z",
     "shell.execute_reply.started": "2021-12-25T21:44:30.509595Z"
    },
    "papermill": {
     "duration": 0.025944,
     "end_time": "2021-12-25T22:30:45.919270",
     "exception": false,
     "start_time": "2021-12-25T22:30:45.893326",
     "status": "completed"
    },
    "tags": []
   },
   "outputs": [],
   "source": [
    "image_height = 128\n",
    "image_width = 128\n",
    "\n",
    "#define a function that accepts an image url and outputs an eager tensor\n",
    "def path_to_eagertensor(image_path):\n",
    "    raw = tf.io.read_file(image_path)\n",
    "    image = tf.image.decode_jpeg(raw, channels=3)\n",
    "    image = tf.cast(image, tf.float32) / 255.0\n",
    "    #image = tf.image.resize_with_pad(image, image_height, image_width) #optional with padding to retain original dimensions\n",
    "    image = tf.image.resize(image, (image_height, image_width))\n",
    "    return image"
   ]
  },
  {
   "cell_type": "code",
   "execution_count": 11,
   "id": "dab6254f",
   "metadata": {
    "execution": {
     "iopub.execute_input": "2021-12-25T22:30:45.958589Z",
     "iopub.status.busy": "2021-12-25T22:30:45.957745Z",
     "iopub.status.idle": "2021-12-25T22:32:07.645825Z",
     "shell.execute_reply": "2021-12-25T22:32:07.645337Z",
     "shell.execute_reply.started": "2021-12-25T21:44:53.919479Z"
    },
    "papermill": {
     "duration": 81.708418,
     "end_time": "2021-12-25T22:32:07.645958",
     "exception": false,
     "start_time": "2021-12-25T22:30:45.937540",
     "status": "completed"
    },
    "tags": []
   },
   "outputs": [
    {
     "name": "stderr",
     "output_type": "stream",
     "text": [
      "2021-12-25 22:30:45.962087: I tensorflow/stream_executor/cuda/cuda_gpu_executor.cc:937] successful NUMA node read from SysFS had negative value (-1), but there must be at least one NUMA node, so returning NUMA node zero\n",
      "2021-12-25 22:30:45.963030: I tensorflow/stream_executor/cuda/cuda_gpu_executor.cc:937] successful NUMA node read from SysFS had negative value (-1), but there must be at least one NUMA node, so returning NUMA node zero\n",
      "2021-12-25 22:30:45.963727: I tensorflow/stream_executor/cuda/cuda_gpu_executor.cc:937] successful NUMA node read from SysFS had negative value (-1), but there must be at least one NUMA node, so returning NUMA node zero\n",
      "2021-12-25 22:30:45.964467: I tensorflow/stream_executor/cuda/cuda_gpu_executor.cc:937] successful NUMA node read from SysFS had negative value (-1), but there must be at least one NUMA node, so returning NUMA node zero\n",
      "2021-12-25 22:30:45.965100: I tensorflow/stream_executor/cuda/cuda_gpu_executor.cc:937] successful NUMA node read from SysFS had negative value (-1), but there must be at least one NUMA node, so returning NUMA node zero\n",
      "2021-12-25 22:30:45.965679: I tensorflow/core/common_runtime/gpu/gpu_device.cc:1510] Created device /job:localhost/replica:0/task:0/device:GPU:0 with 15403 MB memory:  -> device: 0, name: Tesla P100-PCIE-16GB, pci bus id: 0000:00:04.0, compute capability: 6.0\n"
     ]
    },
    {
     "name": "stdout",
     "output_type": "stream",
     "text": [
      "<class 'list'> 9912\n",
      "<class 'numpy.ndarray'> (9912, 128, 128, 3)\n"
     ]
    }
   ],
   "source": [
    "X = []\n",
    "for img in train['img_path']:\n",
    "    new_img_tensor = path_to_eagertensor(img)\n",
    "    X.append(new_img_tensor)\n",
    "    \n",
    "print(type(X),len(X))\n",
    "X = np.array(X)\n",
    "print(type(X),X.shape)"
   ]
  },
  {
   "cell_type": "code",
   "execution_count": 12,
   "id": "04aced0d",
   "metadata": {
    "execution": {
     "iopub.execute_input": "2021-12-25T22:32:07.690101Z",
     "iopub.status.busy": "2021-12-25T22:32:07.689492Z",
     "iopub.status.idle": "2021-12-25T22:32:07.744984Z",
     "shell.execute_reply": "2021-12-25T22:32:07.744560Z",
     "shell.execute_reply.started": "2021-12-25T21:48:22.796430Z"
    },
    "papermill": {
     "duration": 0.079494,
     "end_time": "2021-12-25T22:32:07.745086",
     "exception": false,
     "start_time": "2021-12-25T22:32:07.665592",
     "status": "completed"
    },
    "tags": []
   },
   "outputs": [
    {
     "name": "stdout",
     "output_type": "stream",
     "text": [
      "<class 'list'> 8\n",
      "<class 'numpy.ndarray'> (8, 128, 128, 3)\n"
     ]
    }
   ],
   "source": [
    "X_submission = []\n",
    "for img in test['img_path']:\n",
    "    new_img_tensor = path_to_eagertensor(img)\n",
    "    X_submission.append(new_img_tensor)\n",
    "    \n",
    "print(type(X_submission),len(X_submission))\n",
    "X_submission = np.array(X_submission)\n",
    "print(type(X_submission),X_submission.shape)"
   ]
  },
  {
   "cell_type": "code",
   "execution_count": 13,
   "id": "440d30aa",
   "metadata": {
    "execution": {
     "iopub.execute_input": "2021-12-25T22:32:07.796903Z",
     "iopub.status.busy": "2021-12-25T22:32:07.796106Z",
     "iopub.status.idle": "2021-12-25T22:32:07.798744Z",
     "shell.execute_reply": "2021-12-25T22:32:07.799275Z",
     "shell.execute_reply.started": "2021-12-25T21:48:39.871748Z"
    },
    "papermill": {
     "duration": 0.026929,
     "end_time": "2021-12-25T22:32:07.799454",
     "exception": false,
     "start_time": "2021-12-25T22:32:07.772525",
     "status": "completed"
    },
    "tags": []
   },
   "outputs": [
    {
     "name": "stdout",
     "output_type": "stream",
     "text": [
      "<class 'pandas.core.series.Series'>\n"
     ]
    }
   ],
   "source": [
    "y = train['Pawpularity']\n",
    "print(type(y))"
   ]
  },
  {
   "cell_type": "code",
   "execution_count": 14,
   "id": "8e0cbe1d",
   "metadata": {
    "execution": {
     "iopub.execute_input": "2021-12-25T22:32:07.851467Z",
     "iopub.status.busy": "2021-12-25T22:32:07.849976Z",
     "iopub.status.idle": "2021-12-25T22:32:08.235693Z",
     "shell.execute_reply": "2021-12-25T22:32:08.236119Z",
     "shell.execute_reply.started": "2021-12-25T21:49:04.754750Z"
    },
    "papermill": {
     "duration": 0.415851,
     "end_time": "2021-12-25T22:32:08.236268",
     "exception": false,
     "start_time": "2021-12-25T22:32:07.820417",
     "status": "completed"
    },
    "tags": []
   },
   "outputs": [
    {
     "name": "stdout",
     "output_type": "stream",
     "text": [
      "(8920, 128, 128, 3) (992, 128, 128, 3) (8920,) (992,)\n"
     ]
    }
   ],
   "source": [
    "x_train, x_test, y_train, y_test = train_test_split(X, y, test_size=0.1, random_state=7)\n",
    "print(x_train.shape, x_test.shape, y_train.shape, y_test.shape)"
   ]
  },
  {
   "cell_type": "code",
   "execution_count": 15,
   "id": "1dabffed",
   "metadata": {
    "execution": {
     "iopub.execute_input": "2021-12-25T22:32:08.291251Z",
     "iopub.status.busy": "2021-12-25T22:32:08.283861Z",
     "iopub.status.idle": "2021-12-25T22:32:08.609585Z",
     "shell.execute_reply": "2021-12-25T22:32:08.610150Z",
     "shell.execute_reply.started": "2021-12-25T21:50:17.246291Z"
    },
    "papermill": {
     "duration": 0.353644,
     "end_time": "2021-12-25T22:32:08.610306",
     "exception": false,
     "start_time": "2021-12-25T22:32:08.256662",
     "status": "completed"
    },
    "tags": []
   },
   "outputs": [],
   "source": [
    "#define the inputs to your model. Basically the shape of the incoming data\n",
    "inputs = tf.keras.Input(shape=(128,128,3))\n",
    "\n",
    "#start off with x just being those inputs\n",
    "x = inputs\n",
    "\n",
    "x = tf.keras.layers.Conv2D(filters = 16, kernel_size = (7,7), strides = (2,2), padding='valid', kernel_initializer='he_normal', kernel_regularizer=l2(0.0005), activation = 'relu')(x)\n",
    "x = tf.keras.layers.Conv2D(filters = 32, kernel_size = (3,3), padding='same', activation = 'relu')(x)\n",
    "x = tf.keras.layers.BatchNormalization()(x)\n",
    "x = tf.keras.layers.Conv2D(filters = 32, kernel_size = (3,3), strides = (2,2), padding='same', kernel_initializer='he_normal', kernel_regularizer=l2(0.0005), activation = 'relu')(x)\n",
    "x = tf.keras.layers.BatchNormalization()(x)\n",
    "x = tf.keras.layers.Dropout(0.25)(x)\n",
    "\n",
    "\n",
    "x = tf.keras.layers.Conv2D(filters = 64, kernel_size = (3,3), padding='same', kernel_initializer='he_normal', kernel_regularizer=l2(0.0002), activation = 'relu')(x)\n",
    "x = tf.keras.layers.BatchNormalization()(x)\n",
    "x = tf.keras.layers.Conv2D(filters = 64, kernel_size = (3,3), strides = (2,2), padding='same', kernel_initializer='he_normal', kernel_regularizer=l2(0.0005), activation = 'relu')(x)\n",
    "x = tf.keras.layers.BatchNormalization()(x)\n",
    "x = tf.keras.layers.Dropout(0.25)(x)\n",
    "\n",
    "x = tf.keras.layers.Conv2D(filters = 128, kernel_size = (3,3), padding='same', kernel_initializer='he_normal', kernel_regularizer=l2(0.0002), activation = 'relu')(x)\n",
    "x = tf.keras.layers.BatchNormalization()(x)\n",
    "x = tf.keras.layers.MaxPooling2D(pool_size=(2, 2))(x)\n",
    "x = tf.keras.layers.Conv2D(filters = 128, kernel_size = (3,3),padding='same', kernel_initializer='he_normal', kernel_regularizer=l2(0.0002), activation = 'relu')(x)\n",
    "x = tf.keras.layers.BatchNormalization()(x)\n",
    "x = tf.keras.layers.Dropout(0.25)(x)\n",
    "\n",
    "x = tf.keras.layers.Flatten()(x)\n",
    "x = tf.keras.layers.Dense(512, activation = \"relu\")(x)\n",
    "x = tf.keras.layers.Dropout(0.5)(x)\n",
    "\n",
    "output = tf.keras.layers.Dense(1)(x)\n",
    "\n",
    "model = tf.keras.Model(inputs = inputs, outputs = output)"
   ]
  },
  {
   "cell_type": "code",
   "execution_count": 16,
   "id": "ddc86c26",
   "metadata": {
    "execution": {
     "iopub.execute_input": "2021-12-25T22:32:08.655910Z",
     "iopub.status.busy": "2021-12-25T22:32:08.655160Z",
     "iopub.status.idle": "2021-12-25T22:32:08.670163Z",
     "shell.execute_reply": "2021-12-25T22:32:08.669682Z",
     "shell.execute_reply.started": "2021-12-25T21:50:20.327657Z"
    },
    "papermill": {
     "duration": 0.03828,
     "end_time": "2021-12-25T22:32:08.670277",
     "exception": false,
     "start_time": "2021-12-25T22:32:08.631997",
     "status": "completed"
    },
    "tags": []
   },
   "outputs": [
    {
     "name": "stdout",
     "output_type": "stream",
     "text": [
      "Model: \"model\"\n",
      "_________________________________________________________________\n",
      "Layer (type)                 Output Shape              Param #   \n",
      "=================================================================\n",
      "input_1 (InputLayer)         [(None, 128, 128, 3)]     0         \n",
      "_________________________________________________________________\n",
      "conv2d (Conv2D)              (None, 61, 61, 16)        2368      \n",
      "_________________________________________________________________\n",
      "conv2d_1 (Conv2D)            (None, 61, 61, 32)        4640      \n",
      "_________________________________________________________________\n",
      "batch_normalization (BatchNo (None, 61, 61, 32)        128       \n",
      "_________________________________________________________________\n",
      "conv2d_2 (Conv2D)            (None, 31, 31, 32)        9248      \n",
      "_________________________________________________________________\n",
      "batch_normalization_1 (Batch (None, 31, 31, 32)        128       \n",
      "_________________________________________________________________\n",
      "dropout (Dropout)            (None, 31, 31, 32)        0         \n",
      "_________________________________________________________________\n",
      "conv2d_3 (Conv2D)            (None, 31, 31, 64)        18496     \n",
      "_________________________________________________________________\n",
      "batch_normalization_2 (Batch (None, 31, 31, 64)        256       \n",
      "_________________________________________________________________\n",
      "conv2d_4 (Conv2D)            (None, 16, 16, 64)        36928     \n",
      "_________________________________________________________________\n",
      "batch_normalization_3 (Batch (None, 16, 16, 64)        256       \n",
      "_________________________________________________________________\n",
      "dropout_1 (Dropout)          (None, 16, 16, 64)        0         \n",
      "_________________________________________________________________\n",
      "conv2d_5 (Conv2D)            (None, 16, 16, 128)       73856     \n",
      "_________________________________________________________________\n",
      "batch_normalization_4 (Batch (None, 16, 16, 128)       512       \n",
      "_________________________________________________________________\n",
      "max_pooling2d (MaxPooling2D) (None, 8, 8, 128)         0         \n",
      "_________________________________________________________________\n",
      "conv2d_6 (Conv2D)            (None, 8, 8, 128)         147584    \n",
      "_________________________________________________________________\n",
      "batch_normalization_5 (Batch (None, 8, 8, 128)         512       \n",
      "_________________________________________________________________\n",
      "dropout_2 (Dropout)          (None, 8, 8, 128)         0         \n",
      "_________________________________________________________________\n",
      "flatten (Flatten)            (None, 8192)              0         \n",
      "_________________________________________________________________\n",
      "dense (Dense)                (None, 512)               4194816   \n",
      "_________________________________________________________________\n",
      "dropout_3 (Dropout)          (None, 512)               0         \n",
      "_________________________________________________________________\n",
      "dense_1 (Dense)              (None, 1)                 513       \n",
      "=================================================================\n",
      "Total params: 4,490,241\n",
      "Trainable params: 4,489,345\n",
      "Non-trainable params: 896\n",
      "_________________________________________________________________\n"
     ]
    }
   ],
   "source": [
    "model.summary()"
   ]
  },
  {
   "cell_type": "code",
   "execution_count": 17,
   "id": "ac21c25c",
   "metadata": {
    "execution": {
     "iopub.execute_input": "2021-12-25T22:32:08.718011Z",
     "iopub.status.busy": "2021-12-25T22:32:08.717222Z",
     "iopub.status.idle": "2021-12-25T22:32:08.727411Z",
     "shell.execute_reply": "2021-12-25T22:32:08.726999Z",
     "shell.execute_reply.started": "2021-12-25T21:50:24.549491Z"
    },
    "papermill": {
     "duration": 0.036621,
     "end_time": "2021-12-25T22:32:08.727524",
     "exception": false,
     "start_time": "2021-12-25T22:32:08.690903",
     "status": "completed"
    },
    "tags": []
   },
   "outputs": [],
   "source": [
    "model.compile(\n",
    "    loss = 'mse', \n",
    "    optimizer = 'Adam', \n",
    "    metrics = [tf.keras.metrics.RootMeanSquaredError(name=\"rmse\"), \"mae\", \"mape\"])"
   ]
  },
  {
   "cell_type": "code",
   "execution_count": 18,
   "id": "8a8e91b5",
   "metadata": {
    "execution": {
     "iopub.execute_input": "2021-12-25T22:32:08.772654Z",
     "iopub.status.busy": "2021-12-25T22:32:08.771949Z",
     "iopub.status.idle": "2021-12-25T22:32:08.773950Z",
     "shell.execute_reply": "2021-12-25T22:32:08.774302Z",
     "shell.execute_reply.started": "2021-12-25T21:50:26.938689Z"
    },
    "papermill": {
     "duration": 0.026688,
     "end_time": "2021-12-25T22:32:08.774455",
     "exception": false,
     "start_time": "2021-12-25T22:32:08.747767",
     "status": "completed"
    },
    "tags": []
   },
   "outputs": [],
   "source": [
    "data_augmentation = ImageDataGenerator(\n",
    "    rotation_range = 15, \n",
    "    zoom_range = 0.15,\n",
    "    width_shift_range = 0.2, \n",
    "    height_shift_range = 0.2, \n",
    "    shear_range = 0.1,\n",
    "    horizontal_flip = True, \n",
    "    fill_mode = \"nearest\")"
   ]
  },
  {
   "cell_type": "code",
   "execution_count": 19,
   "id": "fa1a8402",
   "metadata": {
    "execution": {
     "iopub.execute_input": "2021-12-25T22:32:08.819516Z",
     "iopub.status.busy": "2021-12-25T22:32:08.818966Z",
     "iopub.status.idle": "2021-12-25T23:09:27.997123Z",
     "shell.execute_reply": "2021-12-25T23:09:27.996635Z",
     "shell.execute_reply.started": "2021-12-25T21:51:06.056915Z"
    },
    "papermill": {
     "duration": 2239.202736,
     "end_time": "2021-12-25T23:09:27.997265",
     "exception": false,
     "start_time": "2021-12-25T22:32:08.794529",
     "status": "completed"
    },
    "tags": []
   },
   "outputs": [
    {
     "name": "stderr",
     "output_type": "stream",
     "text": [
      "2021-12-25 22:32:08.998933: I tensorflow/compiler/mlir/mlir_graph_optimization_pass.cc:185] None of the MLIR Optimization Passes are enabled (registered 2)\n"
     ]
    },
    {
     "name": "stdout",
     "output_type": "stream",
     "text": [
      "Epoch 1/60\n"
     ]
    },
    {
     "name": "stderr",
     "output_type": "stream",
     "text": [
      "2021-12-25 22:32:10.977299: I tensorflow/stream_executor/cuda/cuda_dnn.cc:369] Loaded cuDNN version 8005\n"
     ]
    },
    {
     "name": "stdout",
     "output_type": "stream",
     "text": [
      "278/278 [==============================] - 40s 117ms/step - loss: 507.6427 - rmse: 22.5254 - mae: 16.9145 - mape: 81.7122 - val_loss: 487.2693 - val_rmse: 22.0684 - val_mae: 15.4707 - val_mape: 62.5612\n",
      "Epoch 2/60\n",
      "278/278 [==============================] - 32s 116ms/step - loss: 476.0444 - rmse: 21.8125 - mae: 16.3472 - mape: 80.9022 - val_loss: 460.6436 - val_rmse: 21.4565 - val_mae: 15.5409 - val_mape: 71.3958\n",
      "Epoch 3/60\n",
      "278/278 [==============================] - 32s 115ms/step - loss: 461.5290 - rmse: 21.4771 - mae: 16.1173 - mape: 78.7447 - val_loss: 433.8052 - val_rmse: 20.8216 - val_mae: 15.5327 - val_mape: 73.8190\n",
      "Epoch 4/60\n",
      "278/278 [==============================] - 32s 116ms/step - loss: 464.2276 - rmse: 21.5397 - mae: 16.0979 - mape: 79.1861 - val_loss: 442.6101 - val_rmse: 21.0318 - val_mae: 15.6584 - val_mape: 75.3187\n",
      "Epoch 5/60\n",
      "278/278 [==============================] - 32s 116ms/step - loss: 461.4278 - rmse: 21.4745 - mae: 16.0700 - mape: 79.1023 - val_loss: 449.3252 - val_rmse: 21.1908 - val_mae: 15.3391 - val_mape: 70.8332\n",
      "Epoch 6/60\n",
      "278/278 [==============================] - 32s 116ms/step - loss: 460.8361 - rmse: 21.4606 - mae: 16.0423 - mape: 79.1621 - val_loss: 457.0993 - val_rmse: 21.3733 - val_mae: 15.5892 - val_mape: 72.4137\n",
      "Epoch 7/60\n",
      "278/278 [==============================] - 33s 117ms/step - loss: 452.4335 - rmse: 21.2638 - mae: 15.8817 - mape: 79.1050 - val_loss: 533.1987 - val_rmse: 23.0849 - val_mae: 16.0026 - val_mape: 76.1493\n",
      "Epoch 8/60\n",
      "278/278 [==============================] - 33s 118ms/step - loss: 456.5407 - rmse: 21.3600 - mae: 15.9640 - mape: 78.6732 - val_loss: 443.6196 - val_rmse: 21.0553 - val_mae: 15.3009 - val_mape: 70.2839\n",
      "Epoch 9/60\n",
      "278/278 [==============================] - 33s 118ms/step - loss: 455.9555 - rmse: 21.3462 - mae: 15.9927 - mape: 79.2400 - val_loss: 431.7171 - val_rmse: 20.7706 - val_mae: 15.8554 - val_mape: 79.3763\n",
      "Epoch 10/60\n",
      "278/278 [==============================] - 32s 117ms/step - loss: 454.7305 - rmse: 21.3173 - mae: 15.9003 - mape: 78.7310 - val_loss: 440.8791 - val_rmse: 20.9898 - val_mae: 15.1469 - val_mape: 69.2171\n",
      "Epoch 11/60\n",
      "278/278 [==============================] - 32s 117ms/step - loss: 457.0518 - rmse: 21.3716 - mae: 16.0023 - mape: 79.4495 - val_loss: 461.1941 - val_rmse: 21.4682 - val_mae: 15.9396 - val_mape: 74.4141\n",
      "Epoch 12/60\n",
      "278/278 [==============================] - 33s 119ms/step - loss: 457.2277 - rmse: 21.3755 - mae: 15.9832 - mape: 78.1803 - val_loss: 446.0748 - val_rmse: 21.1130 - val_mae: 14.9989 - val_mape: 66.6893\n",
      "Epoch 13/60\n",
      "278/278 [==============================] - 33s 118ms/step - loss: 451.5345 - rmse: 21.2418 - mae: 15.8712 - mape: 78.6528 - val_loss: 464.4693 - val_rmse: 21.5440 - val_mae: 16.1490 - val_mape: 76.4195\n",
      "Epoch 14/60\n",
      "278/278 [==============================] - 33s 118ms/step - loss: 454.1605 - rmse: 21.3034 - mae: 15.9057 - mape: 78.7683 - val_loss: 451.9481 - val_rmse: 21.2513 - val_mae: 15.1576 - val_mape: 66.5546\n",
      "Epoch 15/60\n",
      "278/278 [==============================] - 33s 119ms/step - loss: 452.5785 - rmse: 21.2661 - mae: 15.8860 - mape: 78.7358 - val_loss: 523.3752 - val_rmse: 22.8700 - val_mae: 15.8405 - val_mape: 60.8431\n",
      "Epoch 16/60\n",
      "278/278 [==============================] - 33s 118ms/step - loss: 457.2713 - rmse: 21.3759 - mae: 15.9844 - mape: 78.6468 - val_loss: 462.1721 - val_rmse: 21.4901 - val_mae: 17.2245 - val_mape: 90.7662\n",
      "Epoch 17/60\n",
      "278/278 [==============================] - 33s 120ms/step - loss: 454.0955 - rmse: 21.3013 - mae: 15.8800 - mape: 79.4196 - val_loss: 443.5079 - val_rmse: 21.0512 - val_mae: 15.1535 - val_mape: 69.1505\n",
      "Epoch 18/60\n",
      "278/278 [==============================] - 33s 119ms/step - loss: 455.8615 - rmse: 21.3425 - mae: 15.9356 - mape: 78.8232 - val_loss: 449.8398 - val_rmse: 21.2009 - val_mae: 15.2089 - val_mape: 68.4867\n",
      "Epoch 19/60\n",
      "278/278 [==============================] - 33s 118ms/step - loss: 454.9666 - rmse: 21.3213 - mae: 15.9425 - mape: 79.6393 - val_loss: 460.1373 - val_rmse: 21.4421 - val_mae: 15.1522 - val_mape: 66.1691\n",
      "Epoch 20/60\n",
      "278/278 [==============================] - 33s 119ms/step - loss: 452.2838 - rmse: 21.2581 - mae: 15.8912 - mape: 79.4664 - val_loss: 436.4479 - val_rmse: 20.8823 - val_mae: 15.8302 - val_mape: 78.2196\n",
      "Epoch 21/60\n",
      "278/278 [==============================] - 33s 118ms/step - loss: 450.9437 - rmse: 21.2264 - mae: 15.9110 - mape: 79.7675 - val_loss: 432.1021 - val_rmse: 20.7778 - val_mae: 15.4980 - val_mape: 76.2690\n",
      "Epoch 22/60\n",
      "278/278 [==============================] - 33s 119ms/step - loss: 451.6210 - rmse: 21.2422 - mae: 15.8884 - mape: 78.6197 - val_loss: 431.5070 - val_rmse: 20.7633 - val_mae: 15.2480 - val_mape: 72.6817\n",
      "Epoch 23/60\n",
      "278/278 [==============================] - 34s 121ms/step - loss: 448.7737 - rmse: 21.1749 - mae: 15.8301 - mape: 78.6198 - val_loss: 432.7293 - val_rmse: 20.7925 - val_mae: 15.8671 - val_mape: 79.0838\n",
      "Epoch 24/60\n",
      "278/278 [==============================] - 33s 119ms/step - loss: 450.1440 - rmse: 21.2070 - mae: 15.8089 - mape: 78.7370 - val_loss: 436.6988 - val_rmse: 20.8875 - val_mae: 15.7066 - val_mape: 77.0575\n",
      "Epoch 25/60\n",
      "278/278 [==============================] - 34s 122ms/step - loss: 451.0436 - rmse: 21.2280 - mae: 15.8366 - mape: 79.0069 - val_loss: 428.2624 - val_rmse: 20.6844 - val_mae: 15.5530 - val_mape: 77.3318\n",
      "Epoch 26/60\n",
      "278/278 [==============================] - 34s 121ms/step - loss: 455.4235 - rmse: 21.3307 - mae: 15.9630 - mape: 79.0826 - val_loss: 433.3383 - val_rmse: 20.8064 - val_mae: 15.8407 - val_mape: 78.5474\n",
      "Epoch 27/60\n",
      "278/278 [==============================] - 33s 120ms/step - loss: 455.3379 - rmse: 21.3284 - mae: 15.9495 - mape: 79.9448 - val_loss: 441.0035 - val_rmse: 20.9896 - val_mae: 15.0765 - val_mape: 68.5287\n",
      "Epoch 28/60\n",
      "278/278 [==============================] - 34s 122ms/step - loss: 454.0443 - rmse: 21.2979 - mae: 15.8815 - mape: 80.1662 - val_loss: 433.7497 - val_rmse: 20.8158 - val_mae: 15.3752 - val_mape: 74.4536\n",
      "Epoch 29/60\n",
      "278/278 [==============================] - 33s 120ms/step - loss: 451.0399 - rmse: 21.2269 - mae: 15.8828 - mape: 79.5814 - val_loss: 440.3779 - val_rmse: 20.9742 - val_mae: 15.0885 - val_mape: 68.9288\n",
      "Epoch 30/60\n",
      "278/278 [==============================] - 33s 120ms/step - loss: 448.2727 - rmse: 21.1614 - mae: 15.9046 - mape: 79.2634 - val_loss: 440.6612 - val_rmse: 20.9807 - val_mae: 15.0658 - val_mape: 69.3377\n",
      "Epoch 31/60\n",
      "278/278 [==============================] - 33s 120ms/step - loss: 447.2803 - rmse: 21.1377 - mae: 15.7720 - mape: 79.2629 - val_loss: 440.8710 - val_rmse: 20.9854 - val_mae: 16.5014 - val_mape: 86.0034\n",
      "Epoch 32/60\n",
      "278/278 [==============================] - 34s 121ms/step - loss: 451.6249 - rmse: 21.2400 - mae: 15.8665 - mape: 79.1483 - val_loss: 431.4744 - val_rmse: 20.7601 - val_mae: 16.1592 - val_mape: 83.4372\n",
      "Epoch 33/60\n",
      "278/278 [==============================] - 34s 121ms/step - loss: 451.3586 - rmse: 21.2334 - mae: 15.9152 - mape: 79.5063 - val_loss: 433.3682 - val_rmse: 20.8054 - val_mae: 15.0961 - val_mape: 71.1936\n",
      "Epoch 34/60\n",
      "278/278 [==============================] - 34s 122ms/step - loss: 450.8072 - rmse: 21.2202 - mae: 15.8135 - mape: 79.1224 - val_loss: 429.8777 - val_rmse: 20.7210 - val_mae: 15.2961 - val_mape: 74.3635\n",
      "Epoch 35/60\n",
      "278/278 [==============================] - 34s 122ms/step - loss: 445.6416 - rmse: 21.0979 - mae: 15.7978 - mape: 78.6830 - val_loss: 430.3090 - val_rmse: 20.7312 - val_mae: 15.5052 - val_mape: 76.6247\n",
      "Epoch 36/60\n",
      "278/278 [==============================] - 34s 122ms/step - loss: 449.4554 - rmse: 21.1878 - mae: 15.8279 - mape: 79.1557 - val_loss: 429.7796 - val_rmse: 20.7182 - val_mae: 15.1500 - val_mape: 73.5409\n",
      "Epoch 37/60\n",
      "278/278 [==============================] - 34s 122ms/step - loss: 445.7472 - rmse: 21.0999 - mae: 15.7678 - mape: 79.2217 - val_loss: 428.6439 - val_rmse: 20.6905 - val_mae: 15.1073 - val_mape: 72.3498\n",
      "Epoch 38/60\n",
      "278/278 [==============================] - 34s 124ms/step - loss: 445.1465 - rmse: 21.0854 - mae: 15.7198 - mape: 78.9907 - val_loss: 428.7450 - val_rmse: 20.6927 - val_mae: 15.2351 - val_mape: 73.7420\n",
      "Epoch 39/60\n",
      "278/278 [==============================] - 34s 124ms/step - loss: 444.9830 - rmse: 21.0813 - mae: 15.8082 - mape: 78.6679 - val_loss: 439.2453 - val_rmse: 20.9447 - val_mae: 15.4667 - val_mape: 74.0160\n",
      "Epoch 40/60\n",
      "278/278 [==============================] - 34s 122ms/step - loss: 447.5693 - rmse: 21.1423 - mae: 15.7780 - mape: 79.2278 - val_loss: 429.9372 - val_rmse: 20.7210 - val_mae: 15.5878 - val_mape: 77.3284\n",
      "Epoch 41/60\n",
      "278/278 [==============================] - 35s 124ms/step - loss: 443.7475 - rmse: 21.0515 - mae: 15.7167 - mape: 79.0226 - val_loss: 423.5421 - val_rmse: 20.5659 - val_mae: 15.3097 - val_mape: 75.2946\n",
      "Epoch 42/60\n",
      "278/278 [==============================] - 34s 123ms/step - loss: 447.6318 - rmse: 21.1433 - mae: 15.8715 - mape: 79.2719 - val_loss: 433.1006 - val_rmse: 20.7967 - val_mae: 16.0328 - val_mape: 81.5130\n",
      "Epoch 43/60\n",
      "278/278 [==============================] - 34s 122ms/step - loss: 440.9438 - rmse: 20.9843 - mae: 15.6813 - mape: 77.8594 - val_loss: 446.2615 - val_rmse: 21.1105 - val_mae: 16.8073 - val_mape: 88.4444\n",
      "Epoch 44/60\n",
      "278/278 [==============================] - 34s 123ms/step - loss: 444.2920 - rmse: 21.0637 - mae: 15.7426 - mape: 79.1103 - val_loss: 434.5642 - val_rmse: 20.8313 - val_mae: 15.3393 - val_mape: 72.8475\n",
      "Epoch 45/60\n",
      "278/278 [==============================] - 35s 124ms/step - loss: 446.8928 - rmse: 21.1251 - mae: 15.7638 - mape: 79.5126 - val_loss: 429.7635 - val_rmse: 20.7155 - val_mae: 15.7444 - val_mape: 78.5291\n",
      "Epoch 46/60\n",
      "278/278 [==============================] - 34s 124ms/step - loss: 445.8427 - rmse: 21.1000 - mae: 15.7814 - mape: 79.1326 - val_loss: 435.2147 - val_rmse: 20.8464 - val_mae: 15.7595 - val_mape: 77.1727\n",
      "Epoch 47/60\n",
      "278/278 [==============================] - 34s 124ms/step - loss: 439.0556 - rmse: 20.9382 - mae: 15.6587 - mape: 78.5761 - val_loss: 429.9214 - val_rmse: 20.7188 - val_mae: 15.6527 - val_mape: 76.8886\n",
      "Epoch 48/60\n",
      "278/278 [==============================] - 35s 125ms/step - loss: 446.2645 - rmse: 21.1094 - mae: 15.7751 - mape: 78.2554 - val_loss: 433.9053 - val_rmse: 20.8145 - val_mae: 16.1984 - val_mape: 82.8774\n",
      "Epoch 49/60\n",
      "278/278 [==============================] - 35s 127ms/step - loss: 439.9827 - rmse: 20.9598 - mae: 15.6498 - mape: 78.6282 - val_loss: 432.2343 - val_rmse: 20.7741 - val_mae: 15.2208 - val_mape: 71.1083\n",
      "Epoch 50/60\n",
      "278/278 [==============================] - 34s 124ms/step - loss: 442.2727 - rmse: 21.0142 - mae: 15.7004 - mape: 79.2068 - val_loss: 433.7021 - val_rmse: 20.8091 - val_mae: 14.9048 - val_mape: 68.2652\n",
      "Epoch 51/60\n",
      "278/278 [==============================] - 35s 126ms/step - loss: 441.8500 - rmse: 21.0038 - mae: 15.7318 - mape: 78.9259 - val_loss: 432.1895 - val_rmse: 20.7724 - val_mae: 15.9039 - val_mape: 79.8155\n",
      "Epoch 52/60\n",
      "278/278 [==============================] - 35s 124ms/step - loss: 447.7632 - rmse: 21.1438 - mae: 15.7739 - mape: 79.0315 - val_loss: 438.5248 - val_rmse: 20.9241 - val_mae: 15.9842 - val_mape: 79.9519\n",
      "Epoch 53/60\n",
      "278/278 [==============================] - 34s 124ms/step - loss: 440.3633 - rmse: 20.9678 - mae: 15.6911 - mape: 78.8962 - val_loss: 437.3428 - val_rmse: 20.8956 - val_mae: 14.9694 - val_mape: 68.6189\n",
      "Epoch 54/60\n",
      "278/278 [==============================] - 35s 126ms/step - loss: 437.9734 - rmse: 20.9105 - mae: 15.6339 - mape: 78.7330 - val_loss: 453.5978 - val_rmse: 21.2807 - val_mae: 15.0019 - val_mape: 65.5903\n",
      "Epoch 55/60\n",
      "278/278 [==============================] - 33s 118ms/step - loss: 442.4766 - rmse: 21.0177 - mae: 15.7313 - mape: 79.2748 - val_loss: 433.5592 - val_rmse: 20.8043 - val_mae: 15.1091 - val_mape: 70.5071\n",
      "Epoch 56/60\n",
      "278/278 [==============================] - 33s 120ms/step - loss: 437.8953 - rmse: 20.9081 - mae: 15.5689 - mape: 78.4781 - val_loss: 429.2212 - val_rmse: 20.6995 - val_mae: 15.6013 - val_mape: 76.7517\n",
      "Epoch 57/60\n",
      "278/278 [==============================] - 35s 127ms/step - loss: 444.9066 - rmse: 21.0749 - mae: 15.7121 - mape: 79.1131 - val_loss: 426.2648 - val_rmse: 20.6278 - val_mae: 15.2847 - val_mape: 74.6122\n",
      "Epoch 58/60\n",
      "278/278 [==============================] - 31s 113ms/step - loss: 436.5424 - rmse: 20.8753 - mae: 15.6510 - mape: 78.3483 - val_loss: 433.5577 - val_rmse: 20.8036 - val_mae: 16.1272 - val_mape: 81.6905\n",
      "Epoch 59/60\n",
      "278/278 [==============================] - 36s 128ms/step - loss: 439.7870 - rmse: 20.9526 - mae: 15.6576 - mape: 78.8344 - val_loss: 432.1858 - val_rmse: 20.7703 - val_mae: 16.0356 - val_mape: 81.3289\n",
      "Epoch 60/60\n",
      "278/278 [==============================] - 31s 112ms/step - loss: 440.5339 - rmse: 20.9702 - mae: 15.6857 - mape: 78.6590 - val_loss: 426.6385 - val_rmse: 20.6362 - val_mae: 15.4202 - val_mape: 75.6426\n"
     ]
    }
   ],
   "source": [
    "history = model.fit(\n",
    "    data_augmentation.flow(x_train,y_train,batch_size=32),\n",
    "    validation_data = (x_test,y_test),\n",
    "    steps_per_epoch = len(x_train) // 32,\n",
    "    epochs = 60\n",
    ")"
   ]
  },
  {
   "cell_type": "code",
   "execution_count": 20,
   "id": "f50945bf",
   "metadata": {
    "execution": {
     "iopub.execute_input": "2021-12-25T23:09:37.588389Z",
     "iopub.status.busy": "2021-12-25T23:09:37.587587Z",
     "iopub.status.idle": "2021-12-25T23:09:37.796902Z",
     "shell.execute_reply": "2021-12-25T23:09:37.797563Z",
     "shell.execute_reply.started": "2021-12-25T22:27:57.601515Z"
    },
    "papermill": {
     "duration": 5.016409,
     "end_time": "2021-12-25T23:09:37.797767",
     "exception": false,
     "start_time": "2021-12-25T23:09:32.781358",
     "status": "completed"
    },
    "tags": []
   },
   "outputs": [
    {
     "name": "stdout",
     "output_type": "stream",
     "text": [
      "(8, 128, 128, 3) <class 'numpy.ndarray'>\n",
      "(8, 1) <class 'numpy.ndarray'>\n"
     ]
    }
   ],
   "source": [
    "cnn_pred = model.predict(X_submission)\n",
    "print(X_submission.shape, type(X_submission))\n",
    "print(cnn_pred.shape, type(cnn_pred))"
   ]
  },
  {
   "cell_type": "code",
   "execution_count": 21,
   "id": "c4a7da96",
   "metadata": {
    "execution": {
     "iopub.execute_input": "2021-12-25T23:09:46.795771Z",
     "iopub.status.busy": "2021-12-25T23:09:46.795073Z",
     "iopub.status.idle": "2021-12-25T23:09:46.800146Z",
     "shell.execute_reply": "2021-12-25T23:09:46.799705Z",
     "shell.execute_reply.started": "2021-12-25T22:28:07.749283Z"
    },
    "papermill": {
     "duration": 4.353333,
     "end_time": "2021-12-25T23:09:46.800261",
     "exception": false,
     "start_time": "2021-12-25T23:09:42.446928",
     "status": "completed"
    },
    "tags": []
   },
   "outputs": [],
   "source": [
    "cnn = pd.DataFrame()\n",
    "cnn['Id'] = test['Id']\n",
    "cnn['Pawpularity'] = cnn_pred\n",
    "cnn.to_csv('submission.csv',index=False)"
   ]
  },
  {
   "cell_type": "code",
   "execution_count": 22,
   "id": "9e544f18",
   "metadata": {
    "execution": {
     "iopub.execute_input": "2021-12-25T23:09:55.809779Z",
     "iopub.status.busy": "2021-12-25T23:09:55.808744Z",
     "iopub.status.idle": "2021-12-25T23:09:55.812912Z",
     "shell.execute_reply": "2021-12-25T23:09:55.812513Z",
     "shell.execute_reply.started": "2021-12-25T22:28:10.335321Z"
    },
    "papermill": {
     "duration": 4.651892,
     "end_time": "2021-12-25T23:09:55.813035",
     "exception": false,
     "start_time": "2021-12-25T23:09:51.161143",
     "status": "completed"
    },
    "tags": []
   },
   "outputs": [
    {
     "data": {
      "text/html": [
       "<div>\n",
       "<style scoped>\n",
       "    .dataframe tbody tr th:only-of-type {\n",
       "        vertical-align: middle;\n",
       "    }\n",
       "\n",
       "    .dataframe tbody tr th {\n",
       "        vertical-align: top;\n",
       "    }\n",
       "\n",
       "    .dataframe thead th {\n",
       "        text-align: right;\n",
       "    }\n",
       "</style>\n",
       "<table border=\"1\" class=\"dataframe\">\n",
       "  <thead>\n",
       "    <tr style=\"text-align: right;\">\n",
       "      <th></th>\n",
       "      <th>Id</th>\n",
       "      <th>Pawpularity</th>\n",
       "    </tr>\n",
       "  </thead>\n",
       "  <tbody>\n",
       "    <tr>\n",
       "      <th>0</th>\n",
       "      <td>4128bae22183829d2b5fea10effdb0c3</td>\n",
       "      <td>40.109463</td>\n",
       "    </tr>\n",
       "    <tr>\n",
       "      <th>1</th>\n",
       "      <td>43a2262d7738e3d420d453815151079e</td>\n",
       "      <td>40.212399</td>\n",
       "    </tr>\n",
       "    <tr>\n",
       "      <th>2</th>\n",
       "      <td>4e429cead1848a298432a0acad014c9d</td>\n",
       "      <td>40.639473</td>\n",
       "    </tr>\n",
       "    <tr>\n",
       "      <th>3</th>\n",
       "      <td>80bc3ccafcc51b66303c2c263aa38486</td>\n",
       "      <td>40.243393</td>\n",
       "    </tr>\n",
       "    <tr>\n",
       "      <th>4</th>\n",
       "      <td>8f49844c382931444e68dffbe20228f4</td>\n",
       "      <td>40.645004</td>\n",
       "    </tr>\n",
       "    <tr>\n",
       "      <th>5</th>\n",
       "      <td>b03f7041962238a7c9d6537e22f9b017</td>\n",
       "      <td>40.461594</td>\n",
       "    </tr>\n",
       "    <tr>\n",
       "      <th>6</th>\n",
       "      <td>c978013571258ed6d4637f6e8cc9d6a3</td>\n",
       "      <td>41.081436</td>\n",
       "    </tr>\n",
       "    <tr>\n",
       "      <th>7</th>\n",
       "      <td>e0de453c1bffc20c22b072b34b54e50f</td>\n",
       "      <td>40.168221</td>\n",
       "    </tr>\n",
       "  </tbody>\n",
       "</table>\n",
       "</div>"
      ],
      "text/plain": [
       "                                 Id  Pawpularity\n",
       "0  4128bae22183829d2b5fea10effdb0c3    40.109463\n",
       "1  43a2262d7738e3d420d453815151079e    40.212399\n",
       "2  4e429cead1848a298432a0acad014c9d    40.639473\n",
       "3  80bc3ccafcc51b66303c2c263aa38486    40.243393\n",
       "4  8f49844c382931444e68dffbe20228f4    40.645004\n",
       "5  b03f7041962238a7c9d6537e22f9b017    40.461594\n",
       "6  c978013571258ed6d4637f6e8cc9d6a3    41.081436\n",
       "7  e0de453c1bffc20c22b072b34b54e50f    40.168221"
      ]
     },
     "execution_count": 22,
     "metadata": {},
     "output_type": "execute_result"
    }
   ],
   "source": [
    "cnn.head(10)"
   ]
  },
  {
   "cell_type": "code",
   "execution_count": 23,
   "id": "92764228",
   "metadata": {
    "execution": {
     "iopub.execute_input": "2021-12-25T23:10:04.786662Z",
     "iopub.status.busy": "2021-12-25T23:10:04.785076Z",
     "iopub.status.idle": "2021-12-25T23:10:04.787287Z",
     "shell.execute_reply": "2021-12-25T23:10:04.788155Z",
     "shell.execute_reply.started": "2021-12-25T22:28:13.626050Z"
    },
    "papermill": {
     "duration": 4.642133,
     "end_time": "2021-12-25T23:10:04.788295",
     "exception": false,
     "start_time": "2021-12-25T23:10:00.146162",
     "status": "completed"
    },
    "tags": []
   },
   "outputs": [],
   "source": [
    "cnn.to_csv('/kaggle/working/submission.csv',index=False)"
   ]
  }
 ],
 "metadata": {
  "kernelspec": {
   "display_name": "Python 3",
   "language": "python",
   "name": "python3"
  },
  "language_info": {
   "codemirror_mode": {
    "name": "ipython",
    "version": 3
   },
   "file_extension": ".py",
   "mimetype": "text/x-python",
   "name": "python",
   "nbconvert_exporter": "python",
   "pygments_lexer": "ipython3",
   "version": "3.7.12"
  },
  "papermill": {
   "default_parameters": {},
   "duration": 2384.207093,
   "end_time": "2021-12-25T23:10:13.441261",
   "environment_variables": {},
   "exception": null,
   "input_path": "__notebook__.ipynb",
   "output_path": "__notebook__.ipynb",
   "parameters": {},
   "start_time": "2021-12-25T22:30:29.234168",
   "version": "2.3.3"
  }
 },
 "nbformat": 4,
 "nbformat_minor": 5
}
